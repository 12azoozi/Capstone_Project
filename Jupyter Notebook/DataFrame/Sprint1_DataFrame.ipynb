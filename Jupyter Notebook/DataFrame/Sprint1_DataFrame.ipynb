{
 "cells": [
  {
   "cell_type": "code",
   "execution_count": 7,
   "id": "a287ccf2",
   "metadata": {},
   "outputs": [],
   "source": [
    "import pandas as pd\n",
    "import numpy as np\n",
    "import random\n",
    "from datetime import datetime, timedelta\n",
    "\n",
    "seismic_dates = [datetime(2022, 1, 1) + timedelta(days=random.randint(0, 365*5)) for _ in range(100)]\n",
    "seismic_data = pd.DataFrame({\n",
    "    'Date': seismic_dates,\n",
    "    'Magnitude': np.random.uniform(3.0, 8.0, size=100),\n",
    "    'Depth': np.random.uniform(0.0, 700.0, size=100),\n",
    "    'Location': ['Location ' + str(random.randint(1, 10)) for _ in range(100)]\n",
    "})\n",
    "seismic_data.to_csv('seismic_event_data.csv', index=False)"
   ]
  },
  {
   "cell_type": "code",
   "execution_count": 8,
   "id": "dbde89b9",
   "metadata": {},
   "outputs": [],
   "source": [
    "volcanic_dates = [datetime(2022, 1, 1) + timedelta(days=random.randint(0, 365*5)) for _ in range(50)]\n",
    "volcanic_data = pd.DataFrame({\n",
    "    'Date': volcanic_dates,\n",
    "    'Volcano': ['Volcano ' + str(random.randint(1, 5)) for _ in range(50)],\n",
    "    'Eruption_Type': ['Type ' + str(random.randint(1, 3)) for _ in range(50)],\n",
    "    'Magnitude': np.random.uniform(3.0, 8.0, size=50),\n",
    "    'Duration': np.random.randint(1, 30, size=50),\n",
    "    'Geological_Info': ['Info ' + str(random.randint(1, 3)) for _ in range(50)]\n",
    "})\n",
    "volcanic_data.to_csv('volcanic_activity_records.csv', index=False)"
   ]
  },
  {
   "cell_type": "code",
   "execution_count": 9,
   "id": "c44106c5",
   "metadata": {},
   "outputs": [],
   "source": [
    "geospatial_data = pd.DataFrame({\n",
    "    'Latitude': np.random.uniform(-90, 90, size=50),\n",
    "    'Longitude': np.random.uniform(-180, 180, size=50),\n",
    "    'Feature': ['Feature ' + str(random.randint(1, 5)) for _ in range(50)]\n",
    "})\n",
    "geospatial_data.to_csv('geospatial_data.csv', index=False)"
   ]
  },
  {
   "cell_type": "code",
   "execution_count": 10,
   "id": "c8afe427",
   "metadata": {},
   "outputs": [],
   "source": [
    "atmospheric_dates = [datetime(2022, 1, 1) + timedelta(days=random.randint(0, 365*5)) for _ in range(50)]\n",
    "atmospheric_data = pd.DataFrame({\n",
    "    'Date': atmospheric_dates,\n",
    "    'Temperature': np.random.uniform(-20, 40, size=50),\n",
    "    'Humidity': np.random.uniform(0, 100, size=50),\n",
    "    'Precipitation': np.random.uniform(0, 50, size=50),\n",
    "    'Air_Pressure': np.random.uniform(900, 1100, size=50)\n",
    "})\n",
    "atmospheric_data.to_csv('atmospheric_gas_emission_data.csv', index=False)"
   ]
  },
  {
   "cell_type": "code",
   "execution_count": 11,
   "id": "9757a4d9",
   "metadata": {},
   "outputs": [],
   "source": [
    "satellite_data = pd.DataFrame({\n",
    "    'Date': volcanic_dates[:30],\n",
    "    'Image_URL': ['https://example.com/image' + str(i) + '.jpg' for i in range(30)]\n",
    "})\n",
    "satellite_data.to_csv('satellite_imagery_ground_deformation.csv', index=False)"
   ]
  },
  {
   "cell_type": "code",
   "execution_count": 13,
   "id": "7c7eac29",
   "metadata": {},
   "outputs": [],
   "source": [
    "environmental_dates = [datetime(2022, 1, 1) + timedelta(days=random.randint(0, 365*5)) for _ in range(200)]\n",
    "environmental_data = pd.DataFrame({\n",
    "    'Date': environmental_dates,\n",
    "    'Temperature': np.random.uniform(-20, 40, size=200),\n",
    "    'Humidity': np.random.uniform(0, 100, size=200),\n",
    "    'Precipitation': np.random.uniform(0, 50, size=200),\n",
    "    'Air_Pressure': np.random.uniform(900, 1100, size=200)\n",
    "})\n",
    "environmental_data.to_csv('historical_environmental_factors.csv', index=False)\n"
   ]
  }
 ],
 "metadata": {
  "kernelspec": {
   "display_name": "Python 3 (ipykernel)",
   "language": "python",
   "name": "python3"
  },
  "language_info": {
   "codemirror_mode": {
    "name": "ipython",
    "version": 3
   },
   "file_extension": ".py",
   "mimetype": "text/x-python",
   "name": "python",
   "nbconvert_exporter": "python",
   "pygments_lexer": "ipython3",
   "version": "3.11.5"
  }
 },
 "nbformat": 4,
 "nbformat_minor": 5
}
